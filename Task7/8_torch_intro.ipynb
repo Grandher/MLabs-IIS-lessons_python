{
  "cells": [
    {
      "cell_type": "code",
      "execution_count": null,
      "metadata": {
        "id": "48zZF-QiqK5k"
      },
      "outputs": [],
      "source": [
        "import torch\n",
        "import numpy as np"
      ]
    },
    {
      "cell_type": "markdown",
      "metadata": {
        "id": "CizqtQXM0ILt"
      },
      "source": [
        "# Тензоры"
      ]
    },
    {
      "cell_type": "markdown",
      "metadata": {
        "id": "lX4CJM_Q0EeG"
      },
      "source": [
        "Тензоры — это структура данных, очень похожая на массивы и матрицы. В PyTorch мы используем тензоры для кодирования входных и выходных данных модели, а также параметров модели"
      ]
    },
    {
      "cell_type": "markdown",
      "metadata": {
        "id": "6agVBOxe0Rhv"
      },
      "source": [
        "Тензоры очень похожи на ndarrays в NumPy, за исключением того, что тензоры могут работать на графических процессорах (видеокартах) или других аппаратных ускорителях. Тензоры также оптимизированы для автоматического дифференцирования (подробнее об этом мы поговорим позже в разделе **Autograd**)"
      ]
    },
    {
      "cell_type": "markdown",
      "metadata": {
        "id": "dFHzgcC40wsL"
      },
      "source": [
        "## Инициализация тензора"
      ]
    },
    {
      "cell_type": "markdown",
      "metadata": {
        "id": "TdvYlLby04-f"
      },
      "source": [
        "Тензоры можно инициализировать различными способами. Рассмотрим несколько примеров:"
      ]
    },
    {
      "cell_type": "markdown",
      "metadata": {
        "id": "_ivSbxjV09jW"
      },
      "source": [
        "### Напрямую из данных"
      ]
    },
    {
      "cell_type": "code",
      "execution_count": null,
      "metadata": {
        "id": "7tOqo3l_qMan"
      },
      "outputs": [],
      "source": [
        "data = [[1, 2],[3, 4]]\n",
        "x_data = torch.tensor(data)"
      ]
    },
    {
      "cell_type": "code",
      "execution_count": null,
      "metadata": {
        "colab": {
          "base_uri": "https://localhost:8080/"
        },
        "id": "m-pifcHMqwHy",
        "outputId": "8b98d7b3-ef0d-4b71-c2f1-1bf0ff1272f6"
      },
      "outputs": [
        {
          "data": {
            "text/plain": [
              "tensor([[1, 2],\n",
              "        [3, 4]])"
            ]
          },
          "execution_count": 3,
          "metadata": {},
          "output_type": "execute_result"
        }
      ],
      "source": [
        "x_data"
      ]
    },
    {
      "cell_type": "markdown",
      "metadata": {
        "id": "LduSLQPy3tAF"
      },
      "source": [
        "### Из NumPy array"
      ]
    },
    {
      "cell_type": "code",
      "execution_count": null,
      "metadata": {
        "id": "e9Q4e3jeq02A"
      },
      "outputs": [],
      "source": [
        "np_array = np.array(data)\n",
        "x_np = torch.from_numpy(np_array)"
      ]
    },
    {
      "cell_type": "code",
      "execution_count": null,
      "metadata": {
        "colab": {
          "base_uri": "https://localhost:8080/"
        },
        "id": "XWtYGQeuq3GR",
        "outputId": "c3003ef7-9213-4e24-a177-29f056c8ebea"
      },
      "outputs": [
        {
          "data": {
            "text/plain": [
              "tensor([[1, 2],\n",
              "        [3, 4]])"
            ]
          },
          "execution_count": 5,
          "metadata": {},
          "output_type": "execute_result"
        }
      ],
      "source": [
        "x_np"
      ]
    },
    {
      "cell_type": "markdown",
      "metadata": {
        "id": "foY_nPHl33ud"
      },
      "source": [
        "### Из другого тензора"
      ]
    },
    {
      "cell_type": "markdown",
      "metadata": {
        "id": "l1HHr5wh4Dq8"
      },
      "source": [
        "Новый тензор сохраняет свойства (форму, тип данных) тензора аргумента, если они не переопределены явно:"
      ]
    },
    {
      "cell_type": "code",
      "execution_count": null,
      "metadata": {
        "colab": {
          "base_uri": "https://localhost:8080/"
        },
        "id": "SchnO2-r4N-j",
        "outputId": "bd84881a-08da-4f48-da71-a05fb36c8755"
      },
      "outputs": [
        {
          "data": {
            "text/plain": [
              "tensor([[1, 2],\n",
              "        [3, 4]])"
            ]
          },
          "execution_count": 6,
          "metadata": {},
          "output_type": "execute_result"
        }
      ],
      "source": [
        "x_data"
      ]
    },
    {
      "cell_type": "code",
      "execution_count": null,
      "metadata": {
        "colab": {
          "base_uri": "https://localhost:8080/"
        },
        "id": "eNYaqKZoq3xn",
        "outputId": "1e11f461-05ea-4d82-bac6-f5cec2276e58"
      },
      "outputs": [
        {
          "name": "stdout",
          "output_type": "stream",
          "text": [
            "Ones Tensor: \n",
            " tensor([[1, 1],\n",
            "        [1, 1]]) \n",
            "\n",
            "Ones Float Tensor (): \n",
            " tensor([[1., 1.],\n",
            "        [1., 1.]]) \n",
            "\n",
            "Random Tensor: \n",
            " tensor([[7.0323e-01, 7.0239e-01],\n",
            "        [4.8618e-01, 6.2287e-05]]) \n",
            "\n"
          ]
        }
      ],
      "source": [
        "x_ones = torch.ones_like(x_data)  # сохраняет свойства x_data\n",
        "print(f\"Ones Tensor: \\n {x_ones} \\n\")\n",
        "\n",
        "\n",
        "# дз\n",
        "x_ones2 = torch.ones_like(x_data, dtype=torch.float)  # переписывает тип данных x_data\n",
        "print(f\"Ones Float Tensor (): \\n {x_ones2} \\n\")\n",
        "\n",
        "x_rand = torch.rand_like(x_data, dtype=torch.float) # переписывает тип данных x_data\n",
        "print(f\"Random Tensor: \\n {x_rand} \\n\")"
      ]
    },
    {
      "cell_type": "markdown",
      "metadata": {
        "id": "zWEUjXNd4p1Y"
      },
      "source": [
        "### Рандомными или константными значениями\n"
      ]
    },
    {
      "cell_type": "markdown",
      "metadata": {
        "id": "Ci1oOPNL5Bd5"
      },
      "source": [
        "**shape** представляет собой кортеж (tuple) тензорных измерений. В функциях ниже он определяет размерность выходного тензора."
      ]
    },
    {
      "cell_type": "code",
      "execution_count": null,
      "metadata": {
        "colab": {
          "base_uri": "https://localhost:8080/"
        },
        "id": "jQ5FJpBzq8Uc",
        "outputId": "b1720c86-d659-4f28-a44e-487dc9caaeb6"
      },
      "outputs": [
        {
          "name": "stdout",
          "output_type": "stream",
          "text": [
            "Random Tensor: \n",
            " tensor([[0.4305, 0.5304, 0.8917],\n",
            "        [0.2847, 0.8801, 0.8625]]) \n",
            "\n",
            "Ones Tensor: \n",
            " tensor([[1., 1., 1.],\n",
            "        [1., 1., 1.]]) \n",
            "\n",
            "Zeros Tensor: \n",
            " tensor([[0., 0., 0.],\n",
            "        [0., 0., 0.]])\n"
          ]
        }
      ],
      "source": [
        "shape = (2,3)\n",
        "rand_tensor = torch.rand(shape)\n",
        "ones_tensor = torch.ones(shape)\n",
        "zeros_tensor = torch.zeros(shape)\n",
        "\n",
        "print(f\"Random Tensor: \\n {rand_tensor} \\n\")\n",
        "print(f\"Ones Tensor: \\n {ones_tensor} \\n\")\n",
        "print(f\"Zeros Tensor: \\n {zeros_tensor}\")"
      ]
    },
    {
      "cell_type": "markdown",
      "metadata": {
        "id": "mZDwkeeycZDm"
      },
      "source": [
        "**Задание (1 балл):**\n",
        "Создайте тензор, состоящий из нулей с 4 столбцами и 2 строками\n",
        "\n"
      ]
    },
    {
      "cell_type": "code",
      "execution_count": null,
      "metadata": {
        "colab": {
          "base_uri": "https://localhost:8080/"
        },
        "id": "3QXRkOOzEZwm",
        "outputId": "0d07c80a-e688-43b3-f3db-fafe270f9f11"
      },
      "outputs": [
        {
          "data": {
            "text/plain": [
              "tensor([[0., 0., 0., 0.],\n",
              "        [0., 0., 0., 0.]])"
            ]
          },
          "execution_count": 22,
          "metadata": {},
          "output_type": "execute_result"
        }
      ],
      "source": [
        "torch.zeros(2, 4)"
      ]
    },
    {
      "cell_type": "markdown",
      "metadata": {
        "id": "1Yb4TUO4clGs"
      },
      "source": [
        "**Задание (1 балл):**\n",
        "Создайте тензор, состоящий из случайных значений с плавающей точкой с 2 столбцами и 5 строками"
      ]
    },
    {
      "cell_type": "code",
      "execution_count": null,
      "metadata": {
        "colab": {
          "base_uri": "https://localhost:8080/"
        },
        "id": "AvYi7AwgFGoU",
        "outputId": "8ea1f1e1-68b7-4645-f8b7-3362f19ae232"
      },
      "outputs": [
        {
          "data": {
            "text/plain": [
              "tensor([[0.4484, 0.6361],\n",
              "        [0.4245, 0.7703],\n",
              "        [0.5871, 0.1133],\n",
              "        [0.0568, 0.5891],\n",
              "        [0.8748, 0.5609]])"
            ]
          },
          "execution_count": 29,
          "metadata": {},
          "output_type": "execute_result"
        }
      ],
      "source": [
        "torch.rand(5, 2, dtype=torch.float)"
      ]
    },
    {
      "cell_type": "code",
      "execution_count": null,
      "metadata": {
        "colab": {
          "base_uri": "https://localhost:8080/"
        },
        "id": "W7dvewSHKlDP",
        "outputId": "a50ed000-19cd-4590-9e3f-f1e7ddca2c4c"
      },
      "outputs": [
        {
          "data": {
            "text/plain": [
              "tensor([[1., 0., 0., 0.],\n",
              "        [0., 1., 0., 0.],\n",
              "        [0., 0., 1., 0.],\n",
              "        [0., 0., 0., 1.]])"
            ]
          },
          "execution_count": 38,
          "metadata": {},
          "output_type": "execute_result"
        }
      ],
      "source": [
        "#создание единичной матрицы\n",
        "torch.eye(4)"
      ]
    },
    {
      "cell_type": "markdown",
      "metadata": {
        "id": "EidHzavn5VX3"
      },
      "source": [
        "## Атрибуты тензора\n"
      ]
    },
    {
      "cell_type": "markdown",
      "metadata": {
        "id": "WaTIfP0H5gVO"
      },
      "source": [
        "Атрибуты тензора описывают их форму, тип данных и устройство, на котором они хранятся"
      ]
    },
    {
      "cell_type": "code",
      "execution_count": null,
      "metadata": {
        "colab": {
          "base_uri": "https://localhost:8080/"
        },
        "id": "IqivkxBaq_lV",
        "outputId": "f9fb30a9-5d8e-45b1-b362-d84282746652"
      },
      "outputs": [
        {
          "name": "stdout",
          "output_type": "stream",
          "text": [
            "Shape of tensor: torch.Size([3, 4])\n",
            "Datatype of tensor: torch.float32\n",
            "Device tensor is stored on: cpu\n"
          ]
        }
      ],
      "source": [
        "tensor = torch.rand(3,4)\n",
        "\n",
        "print(f\"Shape of tensor: {tensor.shape}\")\n",
        "print(f\"Datatype of tensor: {tensor.dtype}\")\n",
        "print(f\"Device tensor is stored on: {tensor.device}\")"
      ]
    },
    {
      "cell_type": "markdown",
      "metadata": {
        "id": "mZL5HK3h5p02"
      },
      "source": [
        "## Операции над тензорами"
      ]
    },
    {
      "cell_type": "markdown",
      "metadata": {
        "id": "MJ-_2xAm5wMw"
      },
      "source": [
        "[Здесь](https://pytorch.org/docs/stable/torch.html) подробно описаны более 100 тензорных операций, включая арифметические, операции линейной алгебры, манипуляции с матрицами (транспонирование, индексирование, слайсинг), выборку и многое другое.\n",
        "\n",
        "Каждую из этих операций можно выполнить на графическом процессоре (gpu, гпу), и почти всегда это работает на порядок быстрее, чем те же вычисления на центральном процессоре (cpu, цпу).\n",
        "\n",
        "**Берем gpu в Colab**<br>\n",
        "Среда выполнения -> Сменить среду выполнения -> GPU.\n",
        "\n",
        "\n",
        "По умолчанию тензоры создаются на cpu. Нам нужно явно переместить тензоры на gpu с помощью метода **.to** (после проверки доступности gpu). Имейте в виду, что копирование больших тензоров на разные устройства может потребовать больших затрат времени и памяти\n"
      ]
    },
    {
      "cell_type": "code",
      "execution_count": null,
      "metadata": {
        "id": "YHfhgRGn5vMh"
      },
      "outputs": [],
      "source": [
        "# Перемещаем тензор на gpu, если gpu имеется\n",
        "if torch.cuda.is_available():\n",
        "    tensor = tensor.to(\"cuda\")"
      ]
    },
    {
      "cell_type": "code",
      "execution_count": null,
      "metadata": {
        "colab": {
          "base_uri": "https://localhost:8080/"
        },
        "id": "PSd3zpJx5kI0",
        "outputId": "b1565d82-5ab9-4c0d-a9ac-cbb26d9e447c"
      },
      "outputs": [
        {
          "data": {
            "text/plain": [
              "tensor([[0.8794, 0.0870, 0.3901, 0.9626],\n",
              "        [0.0142, 0.7454, 0.2375, 0.4577],\n",
              "        [0.9222, 0.0959, 0.6661, 0.0135]])"
            ]
          },
          "execution_count": 98,
          "metadata": {},
          "output_type": "execute_result"
        }
      ],
      "source": [
        "tensor"
      ]
    },
    {
      "cell_type": "code",
      "execution_count": null,
      "metadata": {
        "colab": {
          "base_uri": "https://localhost:8080/"
        },
        "id": "-v4H4p2Lc_bF",
        "outputId": "144328e1-faa0-4a61-e322-5a40fba7ff90"
      },
      "outputs": [
        {
          "data": {
            "text/plain": [
              "tensor([[1.7587, 0.1739, 0.7802, 1.9252],\n",
              "        [0.0284, 1.4907, 0.4750, 0.9153],\n",
              "        [1.8445, 0.1917, 1.3323, 0.0269]])"
            ]
          },
          "execution_count": 99,
          "metadata": {},
          "output_type": "execute_result"
        }
      ],
      "source": [
        "tensor + tensor"
      ]
    },
    {
      "cell_type": "code",
      "execution_count": null,
      "metadata": {
        "id": "XuQz9RUNc5Xt"
      },
      "outputs": [],
      "source": [
        "# и переведем обратно на cpu\n",
        "tensor = tensor.to(\"cpu\")"
      ]
    },
    {
      "cell_type": "markdown",
      "metadata": {
        "id": "x6lF1W9dbW7K"
      },
      "source": [
        "**Задание (1 - 3 балла):** выберите 1-3 (по 1 баллу за каждую операцию) новых для вас операций над тензорами [отсюда](https://pytorch.org/docs/stable/torch.html), опишите их и примените к каким-нибудь новым тензорам\n",
        "\n",
        "+1 балл, если все операции выполняете на gpu"
      ]
    },
    {
      "cell_type": "code",
      "execution_count": null,
      "metadata": {
        "colab": {
          "base_uri": "https://localhost:8080/"
        },
        "id": "CfugoSD3HzVW",
        "outputId": "95c5cfc3-916a-4d14-b71c-8083339477cc"
      },
      "outputs": [
        {
          "data": {
            "text/plain": [
              "tensor([[0.8794, 0.0870, 0.3901, 0.9626],\n",
              "        [0.0142, 0.7454, 0.2375, 0.4577],\n",
              "        [0.9222, 0.0959, 0.6661, 0.0135]])"
            ]
          },
          "execution_count": 100,
          "metadata": {},
          "output_type": "execute_result"
        }
      ],
      "source": [
        "# абсолютное значение\n",
        "tensor.abs()"
      ]
    },
    {
      "cell_type": "code",
      "execution_count": null,
      "metadata": {
        "colab": {
          "base_uri": "https://localhost:8080/"
        },
        "id": "LAL1EZFpN4j2",
        "outputId": "0ddd19d3-a9ca-4aa2-9d12-3c44cb29772c"
      },
      "outputs": [
        {
          "data": {
            "text/plain": [
              "tensor([[-0.1286, -2.4424, -0.9413, -0.0381],\n",
              "        [-4.2538, -0.2939, -1.4377, -0.7816],\n",
              "        [-0.0810, -2.3447, -0.4062, -4.3080]])"
            ]
          },
          "execution_count": 101,
          "metadata": {},
          "output_type": "execute_result"
        }
      ],
      "source": [
        "# логарифм\n",
        "tensor.log()"
      ]
    },
    {
      "cell_type": "code",
      "execution_count": null,
      "metadata": {
        "colab": {
          "base_uri": "https://localhost:8080/"
        },
        "id": "bdT7Be06KBON",
        "outputId": "43a70bce-f112-4647-8ce0-181f61dee1ad"
      },
      "outputs": [
        {
          "data": {
            "text/plain": [
              "tensor([[1., 0., 0., 1.],\n",
              "        [0., 1., 0., 0.],\n",
              "        [1., 0., 1., 0.]])"
            ]
          },
          "execution_count": 110,
          "metadata": {},
          "output_type": "execute_result"
        }
      ],
      "source": [
        "# округление\n",
        "torch.round(tensor)"
      ]
    },
    {
      "cell_type": "markdown",
      "metadata": {
        "id": "fN05t-JgKZU4"
      },
      "source": [
        "## Еще больше операций над тензорами"
      ]
    },
    {
      "cell_type": "markdown",
      "metadata": {
        "id": "o_l0vHDZKxc_"
      },
      "source": [
        "### Индексация, слайсинг"
      ]
    },
    {
      "cell_type": "code",
      "execution_count": null,
      "metadata": {
        "colab": {
          "base_uri": "https://localhost:8080/"
        },
        "id": "WFAHN1YxKcpM",
        "outputId": "348f3e6c-0b21-4f77-959c-9d4e73a3f233"
      },
      "outputs": [
        {
          "name": "stdout",
          "output_type": "stream",
          "text": [
            "tensor([[1., 1., 1., 1.],\n",
            "        [1., 1., 1., 1.],\n",
            "        [1., 1., 1., 1.],\n",
            "        [1., 1., 1., 1.]])\n",
            "First row: tensor([1., 1., 1., 1.])\n",
            "First column: tensor([1., 1., 1., 1.])\n",
            "Last column: tensor([1., 1., 1., 1.])\n",
            "tensor([[1., 0., 1., 1.],\n",
            "        [1., 0., 1., 1.],\n",
            "        [1., 0., 1., 1.],\n",
            "        [1., 0., 1., 1.]])\n"
          ]
        }
      ],
      "source": [
        "tensor = torch.ones(4, 4)\n",
        "print(tensor)\n",
        "print(f\"First row: {tensor[0]}\")\n",
        "print(f\"First column: {tensor[:, 0]}\")\n",
        "print(f\"Last column: {tensor[..., -1]}\")\n",
        "tensor[:,1] = 0\n",
        "print(tensor)"
      ]
    },
    {
      "cell_type": "markdown",
      "metadata": {
        "id": "c0ds2xD-K9QP"
      },
      "source": [
        "### Присоединение тензоров"
      ]
    },
    {
      "cell_type": "code",
      "execution_count": null,
      "metadata": {
        "colab": {
          "base_uri": "https://localhost:8080/"
        },
        "id": "GopHCSzbK_pk",
        "outputId": "96b4c08f-2889-4036-dd59-32dcf2196a8e"
      },
      "outputs": [
        {
          "name": "stdout",
          "output_type": "stream",
          "text": [
            "tensor([[1., 0., 1., 1., 1., 0., 1., 1., 1., 0., 1., 1.],\n",
            "        [1., 0., 1., 1., 1., 0., 1., 1., 1., 0., 1., 1.],\n",
            "        [1., 0., 1., 1., 1., 0., 1., 1., 1., 0., 1., 1.],\n",
            "        [1., 0., 1., 1., 1., 0., 1., 1., 1., 0., 1., 1.]])\n"
          ]
        }
      ],
      "source": [
        "t1 = torch.cat([tensor, tensor, tensor], dim=1)\n",
        "print(t1)"
      ]
    },
    {
      "cell_type": "markdown",
      "metadata": {
        "id": "mhaJ-yvCLJ-K"
      },
      "source": [
        "### Арифметические операции"
      ]
    },
    {
      "cell_type": "code",
      "execution_count": null,
      "metadata": {
        "colab": {
          "base_uri": "https://localhost:8080/"
        },
        "id": "1MnA4eh2MEBn",
        "outputId": "26533b18-10a4-4af3-8b87-222d90897b06"
      },
      "outputs": [
        {
          "data": {
            "text/plain": [
              "tensor([[1., 0., 1., 1.],\n",
              "        [1., 0., 1., 1.],\n",
              "        [1., 0., 1., 1.],\n",
              "        [1., 0., 1., 1.]])"
            ]
          },
          "execution_count": 18,
          "metadata": {},
          "output_type": "execute_result"
        }
      ],
      "source": [
        "tensor"
      ]
    },
    {
      "cell_type": "code",
      "execution_count": null,
      "metadata": {
        "colab": {
          "base_uri": "https://localhost:8080/"
        },
        "id": "v622Hvr0LLFl",
        "outputId": "2702e68b-abbd-427b-bb92-844ffff4da73"
      },
      "outputs": [
        {
          "data": {
            "text/plain": [
              "(tensor([[3., 3., 3., 3.],\n",
              "         [3., 3., 3., 3.],\n",
              "         [3., 3., 3., 3.],\n",
              "         [3., 3., 3., 3.]]),\n",
              " tensor([[3., 3., 3., 3.],\n",
              "         [3., 3., 3., 3.],\n",
              "         [3., 3., 3., 3.],\n",
              "         [3., 3., 3., 3.]]),\n",
              " tensor([[3., 3., 3., 3.],\n",
              "         [3., 3., 3., 3.],\n",
              "         [3., 3., 3., 3.],\n",
              "         [3., 3., 3., 3.]]))"
            ]
          },
          "execution_count": 19,
          "metadata": {},
          "output_type": "execute_result"
        }
      ],
      "source": [
        "# Умножаем матрицы: y1, y2, y3 будут одинаковыми\n",
        "# ``tensor.T`` возвращает транспонированную матрицу\n",
        "\n",
        "y1 = tensor @ tensor.T\n",
        "y2 = tensor.matmul(tensor.T)\n",
        "y3 = torch.rand_like(y1)\n",
        "torch.matmul(tensor, tensor.T, out=y3)\n",
        "y1, y2, y3"
      ]
    },
    {
      "cell_type": "code",
      "execution_count": null,
      "metadata": {
        "colab": {
          "base_uri": "https://localhost:8080/"
        },
        "id": "ib5Nz70eMH2Y",
        "outputId": "e44d1b40-b7b1-4e7d-d7ba-31b685319055"
      },
      "outputs": [
        {
          "data": {
            "text/plain": [
              "(tensor([[1., 0., 1., 1.],\n",
              "         [1., 0., 1., 1.],\n",
              "         [1., 0., 1., 1.],\n",
              "         [1., 0., 1., 1.]]),\n",
              " tensor([[1., 0., 1., 1.],\n",
              "         [1., 0., 1., 1.],\n",
              "         [1., 0., 1., 1.],\n",
              "         [1., 0., 1., 1.]]),\n",
              " tensor([[1., 0., 1., 1.],\n",
              "         [1., 0., 1., 1.],\n",
              "         [1., 0., 1., 1.],\n",
              "         [1., 0., 1., 1.]]))"
            ]
          },
          "execution_count": 20,
          "metadata": {},
          "output_type": "execute_result"
        }
      ],
      "source": [
        "# Поэлементное умножение. z1, z2, z3 будут одинаковыми\n",
        "z1 = tensor * tensor\n",
        "z2 = tensor.mul(tensor)\n",
        "z3 = torch.rand_like(tensor)\n",
        "torch.mul(tensor, tensor, out=z3)\n",
        "z1, z2, z3"
      ]
    },
    {
      "cell_type": "markdown",
      "metadata": {
        "id": "b0xuNpecMdQI"
      },
      "source": [
        "### Тензоры с одним значением\n"
      ]
    },
    {
      "cell_type": "code",
      "execution_count": null,
      "metadata": {
        "colab": {
          "base_uri": "https://localhost:8080/"
        },
        "id": "rnBd8rSXMeGj",
        "outputId": "13886293-b0b4-4197-d6ad-7c1d6573c2db"
      },
      "outputs": [
        {
          "name": "stdout",
          "output_type": "stream",
          "text": [
            "12.0 <class 'float'>\n"
          ]
        }
      ],
      "source": [
        "# Если наш тензор состоит из одного значения, то можем конвертнуть его в значение в Python через .item()\n",
        "agg = tensor.sum()\n",
        "agg_item = agg.item()\n",
        "print(agg_item, type(agg_item))"
      ]
    },
    {
      "cell_type": "markdown",
      "metadata": {
        "id": "qgINo3_kNOwo"
      },
      "source": [
        "### In-place операции\n",
        "\n"
      ]
    },
    {
      "cell_type": "code",
      "execution_count": null,
      "metadata": {
        "colab": {
          "base_uri": "https://localhost:8080/"
        },
        "id": "gB2cXqehNQ-W",
        "outputId": "6f237716-9e08-40ea-9801-898f935955af"
      },
      "outputs": [
        {
          "name": "stdout",
          "output_type": "stream",
          "text": [
            "tensor([[1., 0., 1., 1.],\n",
            "        [1., 0., 1., 1.],\n",
            "        [1., 0., 1., 1.],\n",
            "        [1., 0., 1., 1.]]) \n",
            "\n",
            "tensor([[6., 5., 6., 6.],\n",
            "        [6., 5., 6., 6.],\n",
            "        [6., 5., 6., 6.],\n",
            "        [6., 5., 6., 6.]])\n"
          ]
        }
      ],
      "source": [
        "print(f\"{tensor} \\n\")\n",
        "tensor.add_(5)\n",
        "print(tensor)"
      ]
    },
    {
      "cell_type": "markdown",
      "metadata": {
        "id": "HrRZNSJGNysI"
      },
      "source": [
        "## Из тензора в NumPy array"
      ]
    },
    {
      "cell_type": "code",
      "execution_count": null,
      "metadata": {
        "colab": {
          "base_uri": "https://localhost:8080/"
        },
        "id": "R-gTN2W9N0-S",
        "outputId": "43e8eb15-1782-413e-ed73-c15d1883bcef"
      },
      "outputs": [
        {
          "name": "stdout",
          "output_type": "stream",
          "text": [
            "t: tensor([1., 1., 1., 1., 1.])\n",
            "n: [1. 1. 1. 1. 1.]\n"
          ]
        }
      ],
      "source": [
        "t = torch.ones(5)\n",
        "print(f\"t: {t}\")\n",
        "n = t.numpy()\n",
        "print(f\"n: {n}\")"
      ]
    },
    {
      "cell_type": "markdown",
      "metadata": {
        "id": "4-Ww2P3POEXf"
      },
      "source": [
        "Будьте аккуратны! Они ссылаются на один адрес в памяти, поэтому, изменяя тензор, будет изменяться и NumPy array"
      ]
    },
    {
      "cell_type": "code",
      "execution_count": null,
      "metadata": {
        "colab": {
          "base_uri": "https://localhost:8080/"
        },
        "id": "zDXvpzcyN-6R",
        "outputId": "9196d40a-a868-49ca-e020-98124eba7871"
      },
      "outputs": [
        {
          "name": "stdout",
          "output_type": "stream",
          "text": [
            "t: tensor([2., 2., 2., 2., 2.])\n",
            "n: [2. 2. 2. 2. 2.]\n"
          ]
        }
      ],
      "source": [
        "t.add_(1)\n",
        "print(f\"t: {t}\")\n",
        "print(f\"n: {n}\")"
      ]
    },
    {
      "cell_type": "markdown",
      "metadata": {
        "id": "L2mC5bhmOSeQ"
      },
      "source": [
        "И наборот:"
      ]
    },
    {
      "cell_type": "code",
      "execution_count": null,
      "metadata": {
        "colab": {
          "base_uri": "https://localhost:8080/"
        },
        "id": "hIpHbnfoOA1h",
        "outputId": "939c2cd2-e833-4a91-e179-679ddc716237"
      },
      "outputs": [
        {
          "name": "stdout",
          "output_type": "stream",
          "text": [
            "t: tensor([3., 3., 3., 3., 3.])\n",
            "n: [3. 3. 3. 3. 3.]\n"
          ]
        }
      ],
      "source": [
        "n += 1\n",
        "print(f\"t: {t}\")\n",
        "print(f\"n: {n}\")"
      ]
    },
    {
      "cell_type": "markdown",
      "metadata": {
        "id": "_EC7gJY-eO6E"
      },
      "source": [
        "**Задание (2 балла)** <br>\n",
        "Подумайте, как мы можем избежать такого поведения\n",
        "\n",
        "Найдите решение (можете в том числе гуглить)"
      ]
    },
    {
      "cell_type": "code",
      "execution_count": null,
      "metadata": {
        "colab": {
          "base_uri": "https://localhost:8080/"
        },
        "id": "Dvqf0G6OLErT",
        "outputId": "0c3b549a-fc97-49f9-e9e3-ce8a9581edb3"
      },
      "outputs": [
        {
          "name": "stdout",
          "output_type": "stream",
          "text": [
            "t: tensor([0., 0., 0., 0.])\n",
            "n: [0. 0. 0. 0.]\n"
          ]
        }
      ],
      "source": [
        "# Метод clone()\n",
        "\n",
        "t_1 = torch.zeros(4)\n",
        "print(f\"t: {t_1}\")\n",
        "n_1 = t_1.clone().numpy()\n",
        "print(f\"n: {n_1}\")"
      ]
    },
    {
      "cell_type": "code",
      "execution_count": null,
      "metadata": {
        "colab": {
          "base_uri": "https://localhost:8080/"
        },
        "id": "Hhe6Xnr5LpQX",
        "outputId": "b51a3820-13ca-4b29-c6e7-3dd98cc3b93c"
      },
      "outputs": [
        {
          "name": "stdout",
          "output_type": "stream",
          "text": [
            "t: tensor([1., 1., 1., 1.])\n",
            "n: [0. 0. 0. 0.]\n"
          ]
        }
      ],
      "source": [
        "t_1.add_(1)\n",
        "print(f\"t: {t_1}\")\n",
        "print(f\"n: {n_1}\")"
      ]
    },
    {
      "cell_type": "code",
      "execution_count": null,
      "metadata": {
        "colab": {
          "base_uri": "https://localhost:8080/"
        },
        "id": "u9VIeDZeL02W",
        "outputId": "24ae965a-af1e-46c5-fb33-03bb9763f569"
      },
      "outputs": [
        {
          "data": {
            "text/plain": [
              "(tensor([1., 1., 1., 1.]), tensor([1., 1., 1., 1.]), tensor([1., 1., 1., 1.]))"
            ]
          },
          "execution_count": 44,
          "metadata": {},
          "output_type": "execute_result"
        }
      ],
      "source": [
        "#Альтернативные варианты\n",
        "\n",
        "#Создание пустого тензора и копирование в него исходного\n",
        "t_2 = torch.empty_like(t_1).copy_(t_1)\n",
        "\n",
        "#Использование deepcopy\n",
        "from copy import deepcopy\n",
        "\n",
        "t_3 = deepcopy(t_1)\n",
        "\n",
        "t_1, t_2, t_3"
      ]
    },
    {
      "cell_type": "markdown",
      "metadata": {
        "id": "Gk1Ql8MgO80Q"
      },
      "source": [
        "# Автоматические дифференцирование с torch.autograd\n",
        "\n"
      ]
    },
    {
      "cell_type": "markdown",
      "metadata": {
        "id": "Oel_X0UfPURE"
      },
      "source": [
        "При обучении нейронных сетей наиболее часто используемый алгоритм — обратное распространение ошибки (back propogation или просто backprop). В этом алгоритме параметры (веса модели) корректируются (изменяются) в соответствии с градиентом функции потерь по отношению к данному параметру.\n",
        "\n",
        "Для вычисления этих градиентов в PyTorch есть встроенный механизм дифференциации под названием torch.autograd. Он поддерживает автоматическое вычисление градиента для любого вычислительного графа.\n",
        "\n",
        "Рассмотрим простейшую однослойную нейронную сеть с входными данными **x**, параметрами **w** и **b** и некоторой функцией потерь. Его можно определить в PyTorch следующим образом:"
      ]
    },
    {
      "cell_type": "code",
      "execution_count": null,
      "metadata": {
        "id": "7lnOnNKyT--f"
      },
      "outputs": [],
      "source": [
        "import torch\n",
        "\n",
        "x = torch.ones(5)  # входной тензор\n",
        "y = torch.zeros(3)  # ожидаемый тензор на выходе\n",
        "w = torch.randn(5, 3, requires_grad=True)  # можем поставить requires_grad при создании тензора, а можем потом с помощью x.requires_grad_(True)\n",
        "b = torch.randn(3, requires_grad=True)\n",
        "\n",
        "z = torch.matmul(x, w)+b\n",
        "loss = torch.nn.functional.binary_cross_entropy_with_logits(z, y)"
      ]
    },
    {
      "cell_type": "markdown",
      "metadata": {
        "id": "TRkYricnUUtB"
      },
      "source": [
        "![Screenshot 2023-11-11 at 02.19.28.png](data:image/png;base64,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)"
      ]
    },
    {
      "cell_type": "markdown",
      "metadata": {
        "id": "2b9zxNvWVSt8"
      },
      "source": [
        "Функция, которую мы применяем к тензорам для построения вычислительного графа, на самом деле является объектом класса Function. Этот объект знает, как вычислить производную функции на этапе обратного распространения. Ссылка на функцию обратного распространения хранится в свойстве grad_fn тензора."
      ]
    },
    {
      "cell_type": "code",
      "execution_count": null,
      "metadata": {
        "colab": {
          "base_uri": "https://localhost:8080/"
        },
        "id": "z81tvw61UgIt",
        "outputId": "68db07be-ec45-45de-e229-a194259b8bf2"
      },
      "outputs": [
        {
          "name": "stdout",
          "output_type": "stream",
          "text": [
            "Gradient function for z = <AddBackward0 object at 0x7ac2308daf20>\n",
            "Gradient function for loss = <BinaryCrossEntropyWithLogitsBackward0 object at 0x7ac2308db220>\n"
          ]
        }
      ],
      "source": [
        "print(f\"Gradient function for z = {z.grad_fn}\")\n",
        "print(f\"Gradient function for loss = {loss.grad_fn}\")"
      ]
    },
    {
      "cell_type": "markdown",
      "metadata": {
        "id": "xhlQLZv-VlqM"
      },
      "source": [
        "### Вычисление градиентов\n"
      ]
    },
    {
      "cell_type": "markdown",
      "metadata": {
        "id": "wvkkkpwzW5ZB"
      },
      "source": [
        "Чтобы оптимизировать веса параметров в нейронной сети, нам необходимо вычислить производные нашей функции потерь по параметрам, а именно, нам нужно\n",
        "$\\frac{\\partial loss}{\\partial w}$ и\n",
        "$\\frac{\\partial loss}{\\partial b}$ при некоторых фиксированных значениях x и y. Чтобы вычислить эти производные, мы вызываем loss.backward(), а затем получаем значения из w.grad и b.grad:"
      ]
    },
    {
      "cell_type": "code",
      "execution_count": null,
      "metadata": {
        "colab": {
          "base_uri": "https://localhost:8080/"
        },
        "id": "y1wV0U6YVpvu",
        "outputId": "850cf3d5-ff1c-458b-a41f-34b83727566a"
      },
      "outputs": [
        {
          "name": "stdout",
          "output_type": "stream",
          "text": [
            "tensor([[0.3280, 0.0616, 0.3264],\n",
            "        [0.3280, 0.0616, 0.3264],\n",
            "        [0.3280, 0.0616, 0.3264],\n",
            "        [0.3280, 0.0616, 0.3264],\n",
            "        [0.3280, 0.0616, 0.3264]])\n",
            "tensor([0.3280, 0.0616, 0.3264])\n"
          ]
        }
      ],
      "source": [
        "loss.backward()\n",
        "print(w.grad)\n",
        "print(b.grad)"
      ]
    },
    {
      "cell_type": "markdown",
      "metadata": {
        "id": "rwPdGzlbX_rQ"
      },
      "source": [
        "### Отключение подсчета градиента"
      ]
    },
    {
      "cell_type": "markdown",
      "metadata": {
        "id": "3TKCgFymYFOV"
      },
      "source": [
        "По умолчанию все тензоры с `require_grad=True` отслеживают историю своих вычислений и поддерживают вычисление градиента. Однако в некоторых случаях нам не нужно этого делать, например, когда мы обучили модель и просто хотим применить ее к некоторым входным данным. Мы можем отключить отслеживание вычислений, окружив наш вычислительный код блоком `torch.no_grad()`:"
      ]
    },
    {
      "cell_type": "code",
      "execution_count": null,
      "metadata": {
        "colab": {
          "base_uri": "https://localhost:8080/"
        },
        "id": "8WaV16MPYPHr",
        "outputId": "8c0cdef1-2140-4b6c-b6a8-a5a8ea542ee5"
      },
      "outputs": [
        {
          "name": "stdout",
          "output_type": "stream",
          "text": [
            "True\n",
            "False\n"
          ]
        }
      ],
      "source": [
        "z = torch.matmul(x, w)+b\n",
        "print(z.requires_grad)\n",
        "\n",
        "with torch.no_grad():\n",
        "    z = torch.matmul(x, w)+b\n",
        "print(z.requires_grad)"
      ]
    },
    {
      "cell_type": "markdown",
      "metadata": {
        "id": "VeydygX2YaH9"
      },
      "source": [
        "ИЛИ используем `.detach()` метод:"
      ]
    },
    {
      "cell_type": "code",
      "execution_count": null,
      "metadata": {
        "colab": {
          "base_uri": "https://localhost:8080/"
        },
        "id": "FXCfewNnYd_C",
        "outputId": "ff852686-d54f-4f50-ca30-bd60a03804a4"
      },
      "outputs": [
        {
          "name": "stdout",
          "output_type": "stream",
          "text": [
            "False\n"
          ]
        }
      ],
      "source": [
        "z = torch.matmul(x, w)+b\n",
        "z_det = z.detach()\n",
        "print(z_det.requires_grad)"
      ]
    },
    {
      "cell_type": "markdown",
      "metadata": {
        "id": "xm07aFQhYjgz"
      },
      "source": [
        "Есть несколько причин, по которым вам может потребоваться отключить отслеживание градиента:\n",
        "- Заморозить некоторые параметры вашей сети и не обучать их\n",
        "- Ускорить вычисления, когда вы выполняете только прямой проход, поскольку вычисления с тензорами, которые не отслеживают градиенты, будут более эффективными"
      ]
    },
    {
      "cell_type": "markdown",
      "metadata": {
        "id": "D7jtnctveo2T"
      },
      "source": [
        "**Задание (до 5 баллов)**<br>\n",
        "Проделайте те же действия, но:\n",
        "- Придумайте свою новую модель (+1 балла)\n",
        "- Добавьте больше весов, чем у модели выше (+1 балл)\n",
        "- Добавьте больше операций, чем у модели выше (+1 балл)\n",
        "- Заморозьте часть весов (+1 балл)\n",
        "- Изобразите вычислительный граф (можете использовать idroo/paint/лист бумаги/т.д.) (+1 балл)\n"
      ]
    },
    {
      "cell_type": "code",
      "execution_count": null,
      "metadata": {
        "colab": {
          "base_uri": "https://localhost:8080/"
        },
        "id": "_--uLeZlOel0",
        "outputId": "4123c0dc-1e0c-440d-d90c-c85b28569b2c"
      },
      "outputs": [
        {
          "data": {
            "text/plain": [
              "tensor([-1.0040,  0.2098,  0.5951, -1.4862, -0.7947], grad_fn=<AddBackward0>)"
            ]
          },
          "execution_count": 93,
          "metadata": {},
          "output_type": "execute_result"
        }
      ],
      "source": [
        "x = torch.ones(10)  # входной тензор\n",
        "y = torch.zeros(5)  # ожидаемый тензор на выходе\n",
        "w = torch.randn(5, requires_grad=True)  # можем поставить requires_grad при создании тензора, а можем потом с помощью x.requires_grad_(True)\n",
        "b = torch.randn(5, requires_grad=True)\n",
        "a = torch.randn(5, requires_grad=False)\n",
        "\n",
        "\n",
        "if torch.cuda.is_available():\n",
        "    x = x.to(\"cuda\")\n",
        "    y = y.to(\"cuda\")\n",
        "    w = w.to(\"cuda\")\n",
        "    b = b.to(\"cuda\")\n",
        "    a = a.to(\"cuda\")\n",
        "\n",
        "z = w.div(x @ x - 4 * a) + b\n",
        "loss = torch.nn.functional.binary_cross_entropy_with_logits(z, y)\n",
        "\n",
        "z"
      ]
    },
    {
      "cell_type": "code",
      "execution_count": null,
      "metadata": {
        "colab": {
          "base_uri": "https://localhost:8080/"
        },
        "id": "C9O6ZdStOqjy",
        "outputId": "7e8135de-d9fb-4c10-c7f6-bb993691c291"
      },
      "outputs": [
        {
          "name": "stdout",
          "output_type": "stream",
          "text": [
            "Gradient function for z = <AddBackward0 object at 0x7ac1d74ef8e0>\n",
            "Gradient function for loss = <BinaryCrossEntropyWithLogitsBackward0 object at 0x7ac1d74eeaa0>\n"
          ]
        }
      ],
      "source": [
        "print(f\"Gradient function for z = {z.grad_fn}\")\n",
        "print(f\"Gradient function for loss = {loss.grad_fn}\")"
      ]
    },
    {
      "cell_type": "code",
      "execution_count": null,
      "metadata": {
        "colab": {
          "base_uri": "https://localhost:8080/"
        },
        "id": "VPiPxj_XRzGw",
        "outputId": "bce66e4d-323b-48d0-d2e9-d572acbf7428"
      },
      "outputs": [
        {
          "name": "stdout",
          "output_type": "stream",
          "text": [
            "tensor([0.0058, 0.0067, 0.0121, 0.0018, 0.0072])\n",
            "tensor([0.0536, 0.1105, 0.1289, 0.0369, 0.0622])\n"
          ]
        }
      ],
      "source": [
        "loss.backward()\n",
        "print(w.grad)\n",
        "print(b.grad)"
      ]
    },
    {
      "attachments": {
        "diagramme.png": {
          "image/png": "[encoded data removed]"
        }
      },
      "cell_type": "markdown",
      "metadata": {},
      "source": [
        "![diagramme.png](attachment:diagramme.png)"
      ]
    }
  ],
  "metadata": {
    "accelerator": "GPU",
    "colab": {
      "gpuType": "T4",
      "provenance": []
    },
    "kernelspec": {
      "display_name": "Python 3",
      "name": "python3"
    },
    "language_info": {
      "name": "python"
    }
  },
  "nbformat": 4,
  "nbformat_minor": 0
}
