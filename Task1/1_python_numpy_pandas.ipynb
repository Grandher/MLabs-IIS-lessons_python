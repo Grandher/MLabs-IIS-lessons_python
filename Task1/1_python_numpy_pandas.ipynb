{
 "cells": [
  {
   "cell_type": "markdown",
   "id": "4fa1a65e",
   "metadata": {
    "tags": []
   },
   "source": [
    "# Основные понятия Python"
   ]
  },
  {
   "cell_type": "markdown",
   "id": "126b2c5c",
   "metadata": {
    "tags": []
   },
   "source": [
    "## Условные выражения (IF...ELSE, IF...ELIF)"
   ]
  },
  {
   "cell_type": "markdown",
   "id": "36161eb9",
   "metadata": {},
   "source": [
    "*Конструкиця IF...ELSE*\n",
    "\n",
    "- `if (expression):\n",
    "    (code_area1)\n",
    "   else:\n",
    "    (code_area2)`\n",
    "    \n",
    "*Конструкиця IF...ELIF*\n",
    "\n",
    "- `if (expression1):\n",
    "    (code_area1)\n",
    "   elif (expression2):\n",
    "    (code_area2)`\n",
    "    "
   ]
  },
  {
   "cell_type": "markdown",
   "id": "36991263",
   "metadata": {},
   "source": [
    "### Задание 1.1.1"
   ]
  },
  {
   "cell_type": "markdown",
   "id": "0f7df11b",
   "metadata": {
    "ExecuteTime": {
     "end_time": "2023-09-06T10:36:07.912866Z",
     "start_time": "2023-09-06T10:36:07.905812Z"
    }
   },
   "source": [
    "(**1 балл**) Написать программу, которая будет выводить:\n",
    "- \"Неудовлетворительно\", если студент набрал от 0-39 баллов\n",
    "- \"Удовлетворительно\", если студент набрал от 40-59 баллов\n",
    "- \"Хорошо\", если студент набрал от 60-79 \n",
    "- \"Отлично\", если студент набрал от 80-100"
   ]
  },
  {
   "cell_type": "code",
   "execution_count": null,
   "id": "a8ea330e",
   "metadata": {
    "ExecuteTime": {
     "end_time": "2023-09-06T10:09:37.525370Z",
     "start_time": "2023-09-06T10:09:33.114623Z"
    }
   },
   "outputs": [],
   "source": [
    "#Решение задания 1.1.1#\n",
    "try:\n",
    "\n",
    "    score = int(input(\"Введите количество баллов: \"))\n",
    "\n",
    "    if 0 <= score < 40:\n",
    "        print(\"Неудовлетворительно\")\n",
    "    elif 40 <= score < 60:\n",
    "        print(\"Удовлетворительно\")\n",
    "    elif 60 <= score < 80:\n",
    "        print(\"Хорошо\")\n",
    "    elif 80 <= score <= 100:\n",
    "        print(\"Отлично\")\n",
    "    else:\n",
    "        print(\"Ошибка\")\n",
    "except ValueError:\n",
    "    print(\"Некорректный ввод\")\n",
    "\n"
   ]
  },
  {
   "cell_type": "markdown",
   "id": "ad0af701",
   "metadata": {
    "tags": []
   },
   "source": [
    "## Функции"
   ]
  },
  {
   "cell_type": "markdown",
   "id": "4b633e51",
   "metadata": {},
   "source": [
    "*Функции должны делать одну вещь и делать ее хорошо и делать только ее.  © Роберт С. Мартин*\n",
    "\n",
    "`def имя_функции(параметры):\n",
    "     определение функции`\n",
    "     \n",
    "\n",
    "\n",
    "\n",
    "\n",
    "    \n",
    "    \n",
    "    "
   ]
  },
  {
   "cell_type": "markdown",
   "id": "3d0fc20d",
   "metadata": {
    "tags": []
   },
   "source": [
    "### Задание 1.1.2"
   ]
  },
  {
   "cell_type": "markdown",
   "id": "e70530f6",
   "metadata": {},
   "source": [
    "(**1 балл**) Напишите программу с двумя функциями. Первая функция должна принимать в качестве параметра целое число и возвращать результат умножения этого числа на 2. Вторая функция должна принимать в качестве параметра целое число и возвращать результат деления этого числа на 4. Вызовите первую функцию, сохраните результат в переменной и передайте ее в качестве параметра во вторую функцию.\n"
   ]
  },
  {
   "cell_type": "code",
   "execution_count": null,
   "id": "bfdecbb9",
   "metadata": {
    "ExecuteTime": {
     "end_time": "2023-09-06T10:54:46.071283Z",
     "start_time": "2023-09-06T10:54:43.762666Z"
    }
   },
   "outputs": [],
   "source": [
    "#Решение задания 1.1.2#\n",
    "\n",
    "def multiply_by_2(number):\n",
    "    result = number * 2\n",
    "    return result\n",
    "\n",
    "def divide_by_4(number):\n",
    "    result = number / 4\n",
    "    return result\n",
    "\n",
    "number = int(input(\"Введите число: \"))\n",
    "\n",
    "multiply_result = multiply_by_2(number)\n",
    "divide_result = divide_by_4(multiply_result)\n",
    "\n",
    "print(\"Результат умножения на 2:\", multiply_result)\n",
    "print(\"Результат деления на 4:\", divide_result)\n",
    "\n"
   ]
  },
  {
   "cell_type": "markdown",
   "id": "6b857885",
   "metadata": {
    "tags": []
   },
   "source": [
    "# Библиотека NumPy"
   ]
  },
  {
   "cell_type": "markdown",
   "id": "147f51e0",
   "metadata": {},
   "source": [
    "**NumPy** (от Numerical Python - \"числовой Python\") - библиотека, предназначенная для работы с числовыми массивами, как одномерными, так и многомерными. Массивы библиотеки NumPy похожи на встроенный тип данных Python list, но обеспечивает гораздо более эффективное хранение и операциис данными при росте размера массивов."
   ]
  },
  {
   "cell_type": "code",
   "execution_count": null,
   "id": "f701f532",
   "metadata": {
    "ExecuteTime": {
     "end_time": "2023-09-06T11:38:28.471121Z",
     "start_time": "2023-09-06T11:38:28.463536Z"
    }
   },
   "outputs": [],
   "source": [
    "#импорт библиотеки\n",
    "\n",
    "import numpy as np"
   ]
  },
  {
   "cell_type": "markdown",
   "id": "c34c5640",
   "metadata": {},
   "source": [
    "Дан двумерный массив:"
   ]
  },
  {
   "cell_type": "code",
   "execution_count": null,
   "id": "dcd85c8a",
   "metadata": {
    "ExecuteTime": {
     "end_time": "2023-09-06T12:21:29.717433Z",
     "start_time": "2023-09-06T12:21:29.701783Z"
    }
   },
   "outputs": [],
   "source": [
    "x = np.array([[12, 52, 0, 32],\n",
    "              [11, 3, 7, 9],\n",
    "              [3, 5, 2, 4]])\n",
    "\n",
    "x"
   ]
  },
  {
   "cell_type": "markdown",
   "id": "72802953",
   "metadata": {
    "ExecuteTime": {
     "end_time": "2023-09-06T11:43:46.273339Z",
     "start_time": "2023-09-06T11:43:46.269378Z"
    }
   },
   "source": [
    "## Задание 1.2.1"
   ]
  },
  {
   "cell_type": "markdown",
   "id": "a5b48096",
   "metadata": {},
   "source": [
    "(**2 балла**) С использованием функции библиотеки NumPy посчитать:\n",
    "- сколько элементов меньше 8 в данном массиве\n",
    "- сколько элементов меньше 6 в каждой строке массива\n",
    "- сколько элементов больше 4 в каждом столбце"
   ]
  },
  {
   "cell_type": "code",
   "execution_count": null,
   "id": "b43e7fe1",
   "metadata": {
    "ExecuteTime": {
     "end_time": "2023-09-06T12:23:21.380462Z",
     "start_time": "2023-09-06T12:23:21.372941Z"
    }
   },
   "outputs": [],
   "source": [
    "#Решение#\n",
    "\n",
    "# 1. Сколько элементов меньше 8 в данном массиве\n",
    "print(\"Элементов меньше 8:\", np.sum(x < 8))\n",
    "\n",
    "# 2. Сколько элементов меньше 6 в каждой строке массива\n",
    "print(\"Элементов меньше 6 в строках:\", np.sum(x < 6, axis=1))\n",
    "\n",
    "# 3. Сколько элементов больше 4 в каждом столбце\n",
    "print(\"Элементов больше 4 в столбцах:\", np.sum(x > 4, axis=0))"
   ]
  },
  {
   "cell_type": "markdown",
   "id": "08d2f48a",
   "metadata": {},
   "source": [
    "С использованием функции библиотеки NumPy выяснить:\n",
    "- имеются ли в массиве какие-либо значения, превышающие 13\n",
    "- все ли значения в каждой строке кратны двум"
   ]
  },
  {
   "cell_type": "code",
   "execution_count": null,
   "id": "27486811",
   "metadata": {
    "ExecuteTime": {
     "end_time": "2023-09-06T12:09:22.570102Z",
     "start_time": "2023-09-06T12:09:22.562938Z"
    }
   },
   "outputs": [],
   "source": [
    "#Решение#\n",
    "\n",
    "print(\"Значения превышают 13: \", np.any(x > 13))\n",
    "\n",
    "print(\"Значения в строке кратны двум: \", np.all(x % 2 == 0, axis=1))\n"
   ]
  },
  {
   "cell_type": "markdown",
   "id": "1ca98b23",
   "metadata": {},
   "source": [
    "Создать еще один **рандомный** массив, объединить его с уже имеющимся и с помощью функций NumPy найти максимальный элемент в каждой строке."
   ]
  },
  {
   "cell_type": "code",
   "execution_count": null,
   "id": "a3563921",
   "metadata": {
    "ExecuteTime": {
     "end_time": "2023-09-06T12:25:43.932528Z",
     "start_time": "2023-09-06T12:25:43.921482Z"
    }
   },
   "outputs": [],
   "source": [
    "#Решение#\n",
    "\n",
    "# Создание рандомного массива y\n",
    "y = np.random.randint(1, 20, x.shape)\n",
    "\n",
    "# Объединение массивов x и y\n",
    "array = np.concatenate((x, y))\n",
    "\n",
    "print(\"Объединенный массив:\")\n",
    "print(array)\n",
    "\n",
    "# Нахождение максимального элемента в каждой строке объединенного массива\n",
    "max = np.max(array, axis=1)\n",
    "\n",
    "print(\"Максимальный элемент в каждой строке:\")\n",
    "print(max)"
   ]
  },
  {
   "cell_type": "markdown",
   "id": "390f61e2",
   "metadata": {
    "tags": []
   },
   "source": [
    "# Библиотека Pandas"
   ]
  },
  {
   "cell_type": "markdown",
   "id": "9cce64ab",
   "metadata": {},
   "source": [
    "**Pandas** - библиотека на языке Python для обработки и анализа данных. Pandas является надстройкой над библиотекой NumPy, обеспечивающей эффективную реализацию класса DataFrame. Объекты **DataFrame** - многомерные массивы с метками для строк и столбцов, а также зачастую с неоднородным типом данных и/или пропущенными данными."
   ]
  },
  {
   "cell_type": "code",
   "execution_count": 1,
   "id": "f2642ccc",
   "metadata": {
    "ExecuteTime": {
     "end_time": "2023-09-06T12:58:53.139616Z",
     "start_time": "2023-09-06T12:58:53.135625Z"
    }
   },
   "outputs": [],
   "source": [
    "#импорт библиотеки\n",
    "\n",
    "import pandas as pd"
   ]
  },
  {
   "cell_type": "code",
   "execution_count": 4,
   "id": "f9d94038",
   "metadata": {
    "ExecuteTime": {
     "end_time": "2023-09-06T13:08:40.861972Z",
     "start_time": "2023-09-06T13:08:40.813071Z"
    }
   },
   "outputs": [
    {
     "data": {
      "text/html": [
       "<div>\n",
       "<style scoped>\n",
       "    .dataframe tbody tr th:only-of-type {\n",
       "        vertical-align: middle;\n",
       "    }\n",
       "\n",
       "    .dataframe tbody tr th {\n",
       "        vertical-align: top;\n",
       "    }\n",
       "\n",
       "    .dataframe thead th {\n",
       "        text-align: right;\n",
       "    }\n",
       "</style>\n",
       "<table border=\"1\" class=\"dataframe\">\n",
       "  <thead>\n",
       "    <tr style=\"text-align: right;\">\n",
       "      <th></th>\n",
       "      <th>Survived</th>\n",
       "      <th>Pclass</th>\n",
       "      <th>Name</th>\n",
       "      <th>Sex</th>\n",
       "      <th>Age</th>\n",
       "      <th>Siblings/Spouses Aboard</th>\n",
       "      <th>Parents/Children Aboard</th>\n",
       "      <th>Fare</th>\n",
       "    </tr>\n",
       "  </thead>\n",
       "  <tbody>\n",
       "    <tr>\n",
       "      <th>0</th>\n",
       "      <td>0</td>\n",
       "      <td>3</td>\n",
       "      <td>Mr. Owen Harris Braund</td>\n",
       "      <td>male</td>\n",
       "      <td>22.0</td>\n",
       "      <td>1</td>\n",
       "      <td>0</td>\n",
       "      <td>7.2500</td>\n",
       "    </tr>\n",
       "    <tr>\n",
       "      <th>1</th>\n",
       "      <td>1</td>\n",
       "      <td>1</td>\n",
       "      <td>Mrs. John Bradley (Florence Briggs Thayer) Cum...</td>\n",
       "      <td>female</td>\n",
       "      <td>38.0</td>\n",
       "      <td>1</td>\n",
       "      <td>0</td>\n",
       "      <td>71.2833</td>\n",
       "    </tr>\n",
       "    <tr>\n",
       "      <th>2</th>\n",
       "      <td>1</td>\n",
       "      <td>3</td>\n",
       "      <td>Miss. Laina Heikkinen</td>\n",
       "      <td>female</td>\n",
       "      <td>26.0</td>\n",
       "      <td>0</td>\n",
       "      <td>0</td>\n",
       "      <td>7.9250</td>\n",
       "    </tr>\n",
       "    <tr>\n",
       "      <th>3</th>\n",
       "      <td>1</td>\n",
       "      <td>1</td>\n",
       "      <td>Mrs. Jacques Heath (Lily May Peel) Futrelle</td>\n",
       "      <td>female</td>\n",
       "      <td>35.0</td>\n",
       "      <td>1</td>\n",
       "      <td>0</td>\n",
       "      <td>53.1000</td>\n",
       "    </tr>\n",
       "    <tr>\n",
       "      <th>4</th>\n",
       "      <td>0</td>\n",
       "      <td>3</td>\n",
       "      <td>Mr. William Henry Allen</td>\n",
       "      <td>male</td>\n",
       "      <td>35.0</td>\n",
       "      <td>0</td>\n",
       "      <td>0</td>\n",
       "      <td>8.0500</td>\n",
       "    </tr>\n",
       "    <tr>\n",
       "      <th>...</th>\n",
       "      <td>...</td>\n",
       "      <td>...</td>\n",
       "      <td>...</td>\n",
       "      <td>...</td>\n",
       "      <td>...</td>\n",
       "      <td>...</td>\n",
       "      <td>...</td>\n",
       "      <td>...</td>\n",
       "    </tr>\n",
       "    <tr>\n",
       "      <th>882</th>\n",
       "      <td>0</td>\n",
       "      <td>2</td>\n",
       "      <td>Rev. Juozas Montvila</td>\n",
       "      <td>male</td>\n",
       "      <td>27.0</td>\n",
       "      <td>0</td>\n",
       "      <td>0</td>\n",
       "      <td>13.0000</td>\n",
       "    </tr>\n",
       "    <tr>\n",
       "      <th>883</th>\n",
       "      <td>1</td>\n",
       "      <td>1</td>\n",
       "      <td>Miss. Margaret Edith Graham</td>\n",
       "      <td>female</td>\n",
       "      <td>19.0</td>\n",
       "      <td>0</td>\n",
       "      <td>0</td>\n",
       "      <td>30.0000</td>\n",
       "    </tr>\n",
       "    <tr>\n",
       "      <th>884</th>\n",
       "      <td>0</td>\n",
       "      <td>3</td>\n",
       "      <td>Miss. Catherine Helen Johnston</td>\n",
       "      <td>female</td>\n",
       "      <td>7.0</td>\n",
       "      <td>1</td>\n",
       "      <td>2</td>\n",
       "      <td>23.4500</td>\n",
       "    </tr>\n",
       "    <tr>\n",
       "      <th>885</th>\n",
       "      <td>1</td>\n",
       "      <td>1</td>\n",
       "      <td>Mr. Karl Howell Behr</td>\n",
       "      <td>male</td>\n",
       "      <td>26.0</td>\n",
       "      <td>0</td>\n",
       "      <td>0</td>\n",
       "      <td>30.0000</td>\n",
       "    </tr>\n",
       "    <tr>\n",
       "      <th>886</th>\n",
       "      <td>0</td>\n",
       "      <td>3</td>\n",
       "      <td>Mr. Patrick Dooley</td>\n",
       "      <td>male</td>\n",
       "      <td>32.0</td>\n",
       "      <td>0</td>\n",
       "      <td>0</td>\n",
       "      <td>7.7500</td>\n",
       "    </tr>\n",
       "  </tbody>\n",
       "</table>\n",
       "<p>887 rows × 8 columns</p>\n",
       "</div>"
      ],
      "text/plain": [
       "     Survived  Pclass                                               Name  \\\n",
       "0           0       3                             Mr. Owen Harris Braund   \n",
       "1           1       1  Mrs. John Bradley (Florence Briggs Thayer) Cum...   \n",
       "2           1       3                              Miss. Laina Heikkinen   \n",
       "3           1       1        Mrs. Jacques Heath (Lily May Peel) Futrelle   \n",
       "4           0       3                            Mr. William Henry Allen   \n",
       "..        ...     ...                                                ...   \n",
       "882         0       2                               Rev. Juozas Montvila   \n",
       "883         1       1                        Miss. Margaret Edith Graham   \n",
       "884         0       3                     Miss. Catherine Helen Johnston   \n",
       "885         1       1                               Mr. Karl Howell Behr   \n",
       "886         0       3                                 Mr. Patrick Dooley   \n",
       "\n",
       "        Sex   Age  Siblings/Spouses Aboard  Parents/Children Aboard     Fare  \n",
       "0      male  22.0                        1                        0   7.2500  \n",
       "1    female  38.0                        1                        0  71.2833  \n",
       "2    female  26.0                        0                        0   7.9250  \n",
       "3    female  35.0                        1                        0  53.1000  \n",
       "4      male  35.0                        0                        0   8.0500  \n",
       "..      ...   ...                      ...                      ...      ...  \n",
       "882    male  27.0                        0                        0  13.0000  \n",
       "883  female  19.0                        0                        0  30.0000  \n",
       "884  female   7.0                        1                        2  23.4500  \n",
       "885    male  26.0                        0                        0  30.0000  \n",
       "886    male  32.0                        0                        0   7.7500  \n",
       "\n",
       "[887 rows x 8 columns]"
      ]
     },
     "execution_count": 4,
     "metadata": {},
     "output_type": "execute_result"
    }
   ],
   "source": [
    "path = \"../DBs/titanic.csv\"\n",
    "dataset = pd.read_csv(path)\n",
    "\n",
    "dataset"
   ]
  },
  {
   "cell_type": "markdown",
   "id": "4e91291d",
   "metadata": {
    "ExecuteTime": {
     "end_time": "2023-09-06T13:09:01.608382Z",
     "start_time": "2023-09-06T13:09:01.595386Z"
    }
   },
   "source": [
    "## Задание 1.3.1"
   ]
  },
  {
   "cell_type": "markdown",
   "id": "0623e637",
   "metadata": {},
   "source": [
    "(**2 балла**)\n",
    "1. Вывести все записи, содержащие данные о пассажирах женского пола и в возрасте старше 20 лет"
   ]
  },
  {
   "cell_type": "code",
   "execution_count": 5,
   "id": "6ad221c8",
   "metadata": {
    "ExecuteTime": {
     "end_time": "2023-09-06T13:14:32.268891Z",
     "start_time": "2023-09-06T13:14:32.232102Z"
    }
   },
   "outputs": [
    {
     "data": {
      "text/html": [
       "<div>\n",
       "<style scoped>\n",
       "    .dataframe tbody tr th:only-of-type {\n",
       "        vertical-align: middle;\n",
       "    }\n",
       "\n",
       "    .dataframe tbody tr th {\n",
       "        vertical-align: top;\n",
       "    }\n",
       "\n",
       "    .dataframe thead th {\n",
       "        text-align: right;\n",
       "    }\n",
       "</style>\n",
       "<table border=\"1\" class=\"dataframe\">\n",
       "  <thead>\n",
       "    <tr style=\"text-align: right;\">\n",
       "      <th></th>\n",
       "      <th>Survived</th>\n",
       "      <th>Pclass</th>\n",
       "      <th>Name</th>\n",
       "      <th>Sex</th>\n",
       "      <th>Age</th>\n",
       "      <th>Siblings/Spouses Aboard</th>\n",
       "      <th>Parents/Children Aboard</th>\n",
       "      <th>Fare</th>\n",
       "    </tr>\n",
       "  </thead>\n",
       "  <tbody>\n",
       "    <tr>\n",
       "      <th>1</th>\n",
       "      <td>1</td>\n",
       "      <td>1</td>\n",
       "      <td>Mrs. John Bradley (Florence Briggs Thayer) Cum...</td>\n",
       "      <td>female</td>\n",
       "      <td>38.0</td>\n",
       "      <td>1</td>\n",
       "      <td>0</td>\n",
       "      <td>71.2833</td>\n",
       "    </tr>\n",
       "    <tr>\n",
       "      <th>2</th>\n",
       "      <td>1</td>\n",
       "      <td>3</td>\n",
       "      <td>Miss. Laina Heikkinen</td>\n",
       "      <td>female</td>\n",
       "      <td>26.0</td>\n",
       "      <td>0</td>\n",
       "      <td>0</td>\n",
       "      <td>7.9250</td>\n",
       "    </tr>\n",
       "    <tr>\n",
       "      <th>3</th>\n",
       "      <td>1</td>\n",
       "      <td>1</td>\n",
       "      <td>Mrs. Jacques Heath (Lily May Peel) Futrelle</td>\n",
       "      <td>female</td>\n",
       "      <td>35.0</td>\n",
       "      <td>1</td>\n",
       "      <td>0</td>\n",
       "      <td>53.1000</td>\n",
       "    </tr>\n",
       "    <tr>\n",
       "      <th>8</th>\n",
       "      <td>1</td>\n",
       "      <td>3</td>\n",
       "      <td>Mrs. Oscar W (Elisabeth Vilhelmina Berg) Johnson</td>\n",
       "      <td>female</td>\n",
       "      <td>27.0</td>\n",
       "      <td>0</td>\n",
       "      <td>2</td>\n",
       "      <td>11.1333</td>\n",
       "    </tr>\n",
       "    <tr>\n",
       "      <th>11</th>\n",
       "      <td>1</td>\n",
       "      <td>1</td>\n",
       "      <td>Miss. Elizabeth Bonnell</td>\n",
       "      <td>female</td>\n",
       "      <td>58.0</td>\n",
       "      <td>0</td>\n",
       "      <td>0</td>\n",
       "      <td>26.5500</td>\n",
       "    </tr>\n",
       "    <tr>\n",
       "      <th>...</th>\n",
       "      <td>...</td>\n",
       "      <td>...</td>\n",
       "      <td>...</td>\n",
       "      <td>...</td>\n",
       "      <td>...</td>\n",
       "      <td>...</td>\n",
       "      <td>...</td>\n",
       "      <td>...</td>\n",
       "    </tr>\n",
       "    <tr>\n",
       "      <th>870</th>\n",
       "      <td>1</td>\n",
       "      <td>2</td>\n",
       "      <td>Mrs. Samuel (Hannah Wizosky) Abelson</td>\n",
       "      <td>female</td>\n",
       "      <td>28.0</td>\n",
       "      <td>1</td>\n",
       "      <td>0</td>\n",
       "      <td>24.0000</td>\n",
       "    </tr>\n",
       "    <tr>\n",
       "      <th>875</th>\n",
       "      <td>1</td>\n",
       "      <td>1</td>\n",
       "      <td>Mrs. Thomas Jr (Lily Alexenia Wilson) Potter</td>\n",
       "      <td>female</td>\n",
       "      <td>56.0</td>\n",
       "      <td>0</td>\n",
       "      <td>1</td>\n",
       "      <td>83.1583</td>\n",
       "    </tr>\n",
       "    <tr>\n",
       "      <th>876</th>\n",
       "      <td>1</td>\n",
       "      <td>2</td>\n",
       "      <td>Mrs. William (Imanita Parrish Hall) Shelley</td>\n",
       "      <td>female</td>\n",
       "      <td>25.0</td>\n",
       "      <td>0</td>\n",
       "      <td>1</td>\n",
       "      <td>26.0000</td>\n",
       "    </tr>\n",
       "    <tr>\n",
       "      <th>878</th>\n",
       "      <td>0</td>\n",
       "      <td>3</td>\n",
       "      <td>Miss. Gerda Ulrika Dahlberg</td>\n",
       "      <td>female</td>\n",
       "      <td>22.0</td>\n",
       "      <td>0</td>\n",
       "      <td>0</td>\n",
       "      <td>10.5167</td>\n",
       "    </tr>\n",
       "    <tr>\n",
       "      <th>881</th>\n",
       "      <td>0</td>\n",
       "      <td>3</td>\n",
       "      <td>Mrs. William (Margaret Norton) Rice</td>\n",
       "      <td>female</td>\n",
       "      <td>39.0</td>\n",
       "      <td>0</td>\n",
       "      <td>5</td>\n",
       "      <td>29.1250</td>\n",
       "    </tr>\n",
       "  </tbody>\n",
       "</table>\n",
       "<p>222 rows × 8 columns</p>\n",
       "</div>"
      ],
      "text/plain": [
       "     Survived  Pclass                                               Name  \\\n",
       "1           1       1  Mrs. John Bradley (Florence Briggs Thayer) Cum...   \n",
       "2           1       3                              Miss. Laina Heikkinen   \n",
       "3           1       1        Mrs. Jacques Heath (Lily May Peel) Futrelle   \n",
       "8           1       3   Mrs. Oscar W (Elisabeth Vilhelmina Berg) Johnson   \n",
       "11          1       1                            Miss. Elizabeth Bonnell   \n",
       "..        ...     ...                                                ...   \n",
       "870         1       2               Mrs. Samuel (Hannah Wizosky) Abelson   \n",
       "875         1       1       Mrs. Thomas Jr (Lily Alexenia Wilson) Potter   \n",
       "876         1       2        Mrs. William (Imanita Parrish Hall) Shelley   \n",
       "878         0       3                        Miss. Gerda Ulrika Dahlberg   \n",
       "881         0       3                Mrs. William (Margaret Norton) Rice   \n",
       "\n",
       "        Sex   Age  Siblings/Spouses Aboard  Parents/Children Aboard     Fare  \n",
       "1    female  38.0                        1                        0  71.2833  \n",
       "2    female  26.0                        0                        0   7.9250  \n",
       "3    female  35.0                        1                        0  53.1000  \n",
       "8    female  27.0                        0                        2  11.1333  \n",
       "11   female  58.0                        0                        0  26.5500  \n",
       "..      ...   ...                      ...                      ...      ...  \n",
       "870  female  28.0                        1                        0  24.0000  \n",
       "875  female  56.0                        0                        1  83.1583  \n",
       "876  female  25.0                        0                        1  26.0000  \n",
       "878  female  22.0                        0                        0  10.5167  \n",
       "881  female  39.0                        0                        5  29.1250  \n",
       "\n",
       "[222 rows x 8 columns]"
      ]
     },
     "execution_count": 5,
     "metadata": {},
     "output_type": "execute_result"
    }
   ],
   "source": [
    "#Решение#\n",
    "\n",
    "dataset[(dataset['Sex'] == 'female') & (dataset['Age'] > 20)]"
   ]
  },
  {
   "cell_type": "code",
   "execution_count": null,
   "metadata": {},
   "outputs": [],
   "source": []
  },
  {
   "cell_type": "markdown",
   "id": "798341fa",
   "metadata": {
    "ExecuteTime": {
     "end_time": "2023-09-06T13:18:52.194029Z",
     "start_time": "2023-09-06T13:18:52.187301Z"
    }
   },
   "source": [
    "2. Вывести дубликаты по возрасту и классу и отсортировать по этим же значениям по убыванию"
   ]
  },
  {
   "cell_type": "code",
   "execution_count": 9,
   "id": "31da0b39",
   "metadata": {
    "ExecuteTime": {
     "end_time": "2023-09-06T13:24:50.581133Z",
     "start_time": "2023-09-06T13:24:50.538261Z"
    }
   },
   "outputs": [
    {
     "data": {
      "text/html": [
       "<div>\n",
       "<style scoped>\n",
       "    .dataframe tbody tr th:only-of-type {\n",
       "        vertical-align: middle;\n",
       "    }\n",
       "\n",
       "    .dataframe tbody tr th {\n",
       "        vertical-align: top;\n",
       "    }\n",
       "\n",
       "    .dataframe thead th {\n",
       "        text-align: right;\n",
       "    }\n",
       "</style>\n",
       "<table border=\"1\" class=\"dataframe\">\n",
       "  <thead>\n",
       "    <tr style=\"text-align: right;\">\n",
       "      <th></th>\n",
       "      <th>Survived</th>\n",
       "      <th>Pclass</th>\n",
       "      <th>Name</th>\n",
       "      <th>Sex</th>\n",
       "      <th>Age</th>\n",
       "      <th>Siblings/Spouses Aboard</th>\n",
       "      <th>Parents/Children Aboard</th>\n",
       "      <th>Fare</th>\n",
       "    </tr>\n",
       "  </thead>\n",
       "  <tbody>\n",
       "    <tr>\n",
       "      <th>95</th>\n",
       "      <td>0</td>\n",
       "      <td>1</td>\n",
       "      <td>Mr. George B Goldschmidt</td>\n",
       "      <td>male</td>\n",
       "      <td>71.00</td>\n",
       "      <td>0</td>\n",
       "      <td>0</td>\n",
       "      <td>34.6542</td>\n",
       "    </tr>\n",
       "    <tr>\n",
       "      <th>490</th>\n",
       "      <td>0</td>\n",
       "      <td>1</td>\n",
       "      <td>Mr. Ramon Artagaveytia</td>\n",
       "      <td>male</td>\n",
       "      <td>71.00</td>\n",
       "      <td>0</td>\n",
       "      <td>0</td>\n",
       "      <td>49.5042</td>\n",
       "    </tr>\n",
       "    <tr>\n",
       "      <th>53</th>\n",
       "      <td>0</td>\n",
       "      <td>1</td>\n",
       "      <td>Mr. Engelhart Cornelius Ostby</td>\n",
       "      <td>male</td>\n",
       "      <td>65.00</td>\n",
       "      <td>0</td>\n",
       "      <td>1</td>\n",
       "      <td>61.9792</td>\n",
       "    </tr>\n",
       "    <tr>\n",
       "      <th>453</th>\n",
       "      <td>0</td>\n",
       "      <td>1</td>\n",
       "      <td>Mr. Francis Davis Millet</td>\n",
       "      <td>male</td>\n",
       "      <td>65.00</td>\n",
       "      <td>0</td>\n",
       "      <td>0</td>\n",
       "      <td>26.5500</td>\n",
       "    </tr>\n",
       "    <tr>\n",
       "      <th>63</th>\n",
       "      <td>0</td>\n",
       "      <td>1</td>\n",
       "      <td>Mr. Albert A Stewart</td>\n",
       "      <td>male</td>\n",
       "      <td>64.00</td>\n",
       "      <td>0</td>\n",
       "      <td>0</td>\n",
       "      <td>27.7208</td>\n",
       "    </tr>\n",
       "    <tr>\n",
       "      <th>...</th>\n",
       "      <td>...</td>\n",
       "      <td>...</td>\n",
       "      <td>...</td>\n",
       "      <td>...</td>\n",
       "      <td>...</td>\n",
       "      <td>...</td>\n",
       "      <td>...</td>\n",
       "      <td>...</td>\n",
       "    </tr>\n",
       "    <tr>\n",
       "      <th>823</th>\n",
       "      <td>1</td>\n",
       "      <td>2</td>\n",
       "      <td>Master. Andre Mallet</td>\n",
       "      <td>male</td>\n",
       "      <td>1.00</td>\n",
       "      <td>0</td>\n",
       "      <td>2</td>\n",
       "      <td>37.0042</td>\n",
       "    </tr>\n",
       "    <tr>\n",
       "      <th>77</th>\n",
       "      <td>1</td>\n",
       "      <td>2</td>\n",
       "      <td>Master. Alden Gates Caldwell</td>\n",
       "      <td>male</td>\n",
       "      <td>0.83</td>\n",
       "      <td>0</td>\n",
       "      <td>2</td>\n",
       "      <td>29.0000</td>\n",
       "    </tr>\n",
       "    <tr>\n",
       "      <th>827</th>\n",
       "      <td>1</td>\n",
       "      <td>2</td>\n",
       "      <td>Master. George Sibley Richards</td>\n",
       "      <td>male</td>\n",
       "      <td>0.83</td>\n",
       "      <td>1</td>\n",
       "      <td>1</td>\n",
       "      <td>18.7500</td>\n",
       "    </tr>\n",
       "    <tr>\n",
       "      <th>466</th>\n",
       "      <td>1</td>\n",
       "      <td>3</td>\n",
       "      <td>Miss. Helene Barbara Baclini</td>\n",
       "      <td>female</td>\n",
       "      <td>0.75</td>\n",
       "      <td>2</td>\n",
       "      <td>1</td>\n",
       "      <td>19.2583</td>\n",
       "    </tr>\n",
       "    <tr>\n",
       "      <th>641</th>\n",
       "      <td>1</td>\n",
       "      <td>3</td>\n",
       "      <td>Miss. Eugenie Baclini</td>\n",
       "      <td>female</td>\n",
       "      <td>0.75</td>\n",
       "      <td>2</td>\n",
       "      <td>1</td>\n",
       "      <td>19.2583</td>\n",
       "    </tr>\n",
       "  </tbody>\n",
       "</table>\n",
       "<p>835 rows × 8 columns</p>\n",
       "</div>"
      ],
      "text/plain": [
       "     Survived  Pclass                            Name     Sex    Age  \\\n",
       "95          0       1        Mr. George B Goldschmidt    male  71.00   \n",
       "490         0       1          Mr. Ramon Artagaveytia    male  71.00   \n",
       "53          0       1   Mr. Engelhart Cornelius Ostby    male  65.00   \n",
       "453         0       1        Mr. Francis Davis Millet    male  65.00   \n",
       "63          0       1            Mr. Albert A Stewart    male  64.00   \n",
       "..        ...     ...                             ...     ...    ...   \n",
       "823         1       2            Master. Andre Mallet    male   1.00   \n",
       "77          1       2    Master. Alden Gates Caldwell    male   0.83   \n",
       "827         1       2  Master. George Sibley Richards    male   0.83   \n",
       "466         1       3    Miss. Helene Barbara Baclini  female   0.75   \n",
       "641         1       3           Miss. Eugenie Baclini  female   0.75   \n",
       "\n",
       "     Siblings/Spouses Aboard  Parents/Children Aboard     Fare  \n",
       "95                         0                        0  34.6542  \n",
       "490                        0                        0  49.5042  \n",
       "53                         0                        1  61.9792  \n",
       "453                        0                        0  26.5500  \n",
       "63                         0                        0  27.7208  \n",
       "..                       ...                      ...      ...  \n",
       "823                        0                        2  37.0042  \n",
       "77                         0                        2  29.0000  \n",
       "827                        1                        1  18.7500  \n",
       "466                        2                        1  19.2583  \n",
       "641                        2                        1  19.2583  \n",
       "\n",
       "[835 rows x 8 columns]"
      ]
     },
     "execution_count": 9,
     "metadata": {},
     "output_type": "execute_result"
    }
   ],
   "source": [
    "#Решение#\n",
    "\n",
    "# Фильтруем датасет, оставляя только дубликаты\n",
    "duplicates_dataset = dataset[dataset.duplicated(subset=['Age', 'Pclass'], keep=False)]\n",
    "\n",
    "# Сортируем дубликаты по столбцам 'Age' и 'Pclass' в порядке убывания\n",
    "sorted_duplicates = duplicates_dataset.sort_values(by=['Age', 'Pclass'], ascending=[False, False])\n",
    "\n",
    "sorted_duplicates\n"
   ]
  },
  {
   "cell_type": "markdown",
   "id": "54a820ec",
   "metadata": {},
   "source": [
    "3. Используя группировку:\n",
    "- посчитать сколько пассажиров в каждом классе\n",
    "- переименовать одну из колонок полученного датасета в колонку \"Сount\"\n",
    "- вывести значение \"Сount\" для пассажиров второго класса"
   ]
  },
  {
   "cell_type": "code",
   "execution_count": 17,
   "id": "d7d2b2a5",
   "metadata": {
    "ExecuteTime": {
     "end_time": "2023-09-06T13:35:12.191732Z",
     "start_time": "2023-09-06T13:35:12.178571Z"
    }
   },
   "outputs": [
    {
     "name": "stdout",
     "output_type": "stream",
     "text": [
      "Количество пассажиров в каждом классе:\n",
      "    Pclass  Сount\n",
      "0       1    216\n",
      "1       2    184\n",
      "2       3    487\n",
      "Количество пассажиров во втором классе: 184\n"
     ]
    }
   ],
   "source": [
    "#Решение#\n",
    "\n",
    "# Группировка и подсчет количества пассажиров в каждом классе\n",
    "data_class = dataset.groupby('Pclass').size().reset_index(name='Сount')\n",
    "\n",
    "print(\"Количество пассажиров в каждом классе:\\n\", data_class)\n",
    "\n",
    "count_2 = data_class[data_class['Pclass'] == 2]['Сount'].values[0]\n",
    "print(f\"Количество пассажиров во втором классе:\", count_2)"
   ]
  }
 ],
 "metadata": {
  "kernelspec": {
   "display_name": "Python 3 (ipykernel)",
   "language": "python",
   "name": "python3"
  },
  "language_info": {
   "codemirror_mode": {
    "name": "ipython",
    "version": 3
   },
   "file_extension": ".py",
   "mimetype": "text/x-python",
   "name": "python",
   "nbconvert_exporter": "python",
   "pygments_lexer": "ipython3",
   "version": "3.11.4"
  },
  "latex_envs": {
   "LaTeX_envs_menu_present": true,
   "autoclose": false,
   "autocomplete": true,
   "bibliofile": "biblio.bib",
   "cite_by": "apalike",
   "current_citInitial": 1,
   "eqLabelWithNumbers": true,
   "eqNumInitial": 1,
   "hotkeys": {
    "equation": "Ctrl-E",
    "itemize": "Ctrl-I"
   },
   "labels_anchors": false,
   "latex_user_defs": false,
   "report_style_numbering": false,
   "user_envs_cfg": false
  },
  "toc": {
   "base_numbering": 1,
   "nav_menu": {},
   "number_sections": true,
   "sideBar": true,
   "skip_h1_title": false,
   "title_cell": "Table of Contents",
   "title_sidebar": "Contents",
   "toc_cell": false,
   "toc_position": {},
   "toc_section_display": true,
   "toc_window_display": false
  },
  "varInspector": {
   "cols": {
    "lenName": 16,
    "lenType": 16,
    "lenVar": 40
   },
   "kernels_config": {
    "python": {
     "delete_cmd_postfix": "",
     "delete_cmd_prefix": "del ",
     "library": "var_list.py",
     "varRefreshCmd": "print(var_dic_list())"
    },
    "r": {
     "delete_cmd_postfix": ") ",
     "delete_cmd_prefix": "rm(",
     "library": "var_list.r",
     "varRefreshCmd": "cat(var_dic_list()) "
    }
   },
   "types_to_exclude": [
    "module",
    "function",
    "builtin_function_or_method",
    "instance",
    "_Feature"
   ],
   "window_display": false
  }
 },
 "nbformat": 4,
 "nbformat_minor": 5
}
